{
 "cells": [
  {
   "cell_type": "code",
   "execution_count": 18,
   "id": "9cb2ea7c",
   "metadata": {},
   "outputs": [],
   "source": [
    "# Type Hints\n",
    "\n",
    "from typing import Dict, TypedDict, List, Literal, Tuple"
   ]
  },
  {
   "cell_type": "code",
   "execution_count": 19,
   "id": "7682827c",
   "metadata": {},
   "outputs": [],
   "source": [
    "# Schema Field Type\n",
    "\n",
    "type SchemaField = TypedDict('SchemaField', {\n",
    "    'name': str,\n",
    "    'type': str,\n",
    "    'unique': bool\n",
    "})"
   ]
  },
  {
   "cell_type": "code",
   "execution_count": 20,
   "id": "2597ad8d",
   "metadata": {},
   "outputs": [],
   "source": [
    "# Customers Schema\n",
    "\n",
    "CUSTOMERS_SCHEMA: List[SchemaField] = [\n",
    "    {\"name\": \"Customer Id\", \"type\": 'id', \"unique\": True},\n",
    "    {\"name\": \"First Name\", \"type\": 'first_name'},\n",
    "    {\"name\": \"Last Name\", \"type\": \"last_name\"},\n",
    "    {\"name\": \"Company\", \"type\": \"company\"},\n",
    "    {\"name\": \"City\", \"type\": \"city\"},\n",
    "    {\"name\": \"Country\", \"type\": \"country\"},\n",
    "    {\"name\": \"Phone 1\", \"type\": \"phone\"},\n",
    "    {\"name\": \"Phone 2\", \"type\": \"phone\"},\n",
    "    {\"name\": \"Email\", \"type\": \"business_email\", \"unique\": True},\n",
    "    {\"name\": \"Subscription Date\", \"type\": \"date_this_decade\"},\n",
    "    {\"name\": \"Website\", \"type\": \"website\"}\n",
    "]"
   ]
  },
  {
   "cell_type": "code",
   "execution_count": 21,
   "id": "ed1d191d",
   "metadata": {},
   "outputs": [],
   "source": [
    "# Leads Schema\n",
    "\n",
    "LEADS_SCHEMA: List[SchemaField] = [\n",
    "    {\"name\": \"Account Id\", \"type\": 'id', \"unique\": True},\n",
    "    {\"name\": \"Lead Owner\", \"type\": 'full_name'},\n",
    "    {\"name\": \"First Name\", \"type\": 'first_name'},\n",
    "    {\"name\": \"Last Name\", \"type\": \"last_name\"},\n",
    "    {\"name\": \"Company\", \"type\": \"company\"},\n",
    "    {\"name\": \"Phone 1\", \"type\": \"phone\"},\n",
    "    {\"name\": \"Phone 2\", \"type\": \"phone\"},\n",
    "    {\"name\": \"Email 1\", \"type\": \"business_email\"},\n",
    "    {\"name\": \"Email 2\", \"type\": \"business_email\"},\n",
    "    {\"name\": \"Website\", \"type\": \"website\"},\n",
    "    {\"name\": \"Source\", \"type\": \"deal_source\"},\n",
    "    {\"name\": \"Deal Stage\", \"type\": \"deal_stage\"},\n",
    "    {\"name\": \"Notes\", \"type\": \"long_text\"}\n",
    "]"
   ]
  },
  {
   "cell_type": "code",
   "execution_count": 22,
   "id": "e28dabcc",
   "metadata": {},
   "outputs": [],
   "source": [
    "# People Schema\n",
    "\n",
    "PEOPLE_SCHEMA: List[SchemaField] = [\n",
    "    {\"name\": \"User Id\", \"type\": 'id', \"unique\": True},\n",
    "    {\"name\": \"First Name\", \"type\": 'first_name'},\n",
    "    {\"name\": \"Last Name\", \"type\": \"last_name\"},\n",
    "    {\"name\": \"Sex\", \"type\": \"sex\"},\n",
    "    {\"name\": \"Email\", \"type\": \"email\", \"unique\": True},\n",
    "    {\"name\": \"Phone\", \"type\": \"phone\"},\n",
    "    {\"name\": \"Date of birth\", \"type\": \"date_of_birth\"},\n",
    "    {\"name\": \"Job Title\", \"type\": \"job\"}\n",
    "]"
   ]
  },
  {
   "cell_type": "code",
   "execution_count": 23,
   "id": "8de5255d",
   "metadata": {},
   "outputs": [],
   "source": [
    "# Organizations Schema\n",
    "\n",
    "ORGANIZATIONS_SCHEMA: List[SchemaField] = [\n",
    "    {\"name\": \"Organization Id\", \"type\": 'id', \"unique\": True},\n",
    "    {\"name\": \"Name\", \"type\": \"company\"},\n",
    "    {\"name\": \"Website\", \"type\": \"website\"},\n",
    "    {\"name\": \"Country\", \"type\": \"country\"},\n",
    "    {\"name\": \"Description\", \"type\": \"company_desc\"},\n",
    "    {\"name\": \"Founded\", \"type\": \"year\"},\n",
    "    {\"name\": \"Industry\", \"type\": \"industry\"},\n",
    "    {\"name\": \"Number of employees\", \"type\": \"company_number_employees\"}\n",
    "]"
   ]
  },
  {
   "cell_type": "code",
   "execution_count": 24,
   "id": "5e9f2a47",
   "metadata": {},
   "outputs": [],
   "source": [
    "# Products Schema\n",
    "\n",
    "PRODUCTS_SCHEMA: List[SchemaField] = [\n",
    "    {\"name\": \"Name\", \"type\": \"product_name\"},\n",
    "    {\"name\": \"Description\", \"type\": \"long_text\"},\n",
    "    {\"name\": \"Brand\", \"type\": \"company\"},\n",
    "    {\"name\": \"Category\", \"type\": \"product_category\"},\n",
    "    {\"name\": \"Price\", \"type\": \"positive_integer\"},\n",
    "    {\"name\": \"Currency\", \"type\": \"currency\"},\n",
    "    {\"name\": \"Stock\", \"type\": \"positive_integer\"},\n",
    "    {\"name\": \"EAN\", \"type\": \"ean\", \"unique\": True},\n",
    "    {\"name\": \"Color\", \"type\": \"color\"},\n",
    "    {\"name\": \"Size\", \"type\": \"size\"},\n",
    "    {\"name\": 'Availability', \"type\": 'availability'},\n",
    "    {\"name\": \"Internal ID\", \"type\": \"id\", \"unique\": True}\n",
    "]"
   ]
  },
  {
   "cell_type": "code",
   "execution_count": 25,
   "id": "b83ef734",
   "metadata": {},
   "outputs": [],
   "source": [
    "# Offers Schema\n",
    "\n",
    "OFFERS_SCHEMA: List[SchemaField] = [\n",
    "    {\"name\": \"EAN\", \"type\": \"ean\", \"unique\": True},\n",
    "    {\"name\": \"Internal ID\", \"type\": \"id\", \"unique\": True},\n",
    "    {\"name\": \"Stock\", \"type\": \"positive_integer\"},\n",
    "    {\"name\": \"Price\", \"type\": \"positive_integer\"}\n",
    "]\n"
   ]
  }
 ],
 "metadata": {
  "kernelspec": {
   "display_name": "Python 3",
   "language": "python",
   "name": "python3"
  },
  "language_info": {
   "codemirror_mode": {
    "name": "ipython",
    "version": 3
   },
   "file_extension": ".py",
   "mimetype": "text/x-python",
   "name": "python",
   "nbconvert_exporter": "python",
   "pygments_lexer": "ipython3",
   "version": "3.12.3"
  }
 },
 "nbformat": 4,
 "nbformat_minor": 5
}
