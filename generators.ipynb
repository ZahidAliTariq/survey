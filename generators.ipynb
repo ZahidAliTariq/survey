{
 "cells": [
  {
   "cell_type": "code",
   "execution_count": 16,
   "id": "646ddddb",
   "metadata": {},
   "outputs": [],
   "source": [
    "import random\n",
    "import string\n",
    "import json\n",
    "import secrets\n",
    "from pathlib import Path\n",
    "from faker import Faker\n",
    "\n",
    "fake = Faker(use_weighting=False)\n"
   ]
  },
  {
   "cell_type": "code",
   "execution_count": 17,
   "metadata": {},
   "outputs": [],
   "source": [
    "product_names_json = Path().resolve() / \"product_names.json\"\n",
    "\n",
    "with open(product_names_json, \"r\", encoding=\"utf-8\") as f:\n",
    "    product_names = json.load(f)\n"
   ]
  },
  {
   "cell_type": "code",
   "execution_count": 18,
   "metadata": {},
   "outputs": [],
   "source": [
    "def random_string(string_length: int = 10) -> str:\n",
    "    alphabet = string.ascii_letters + string.digits\n",
    "    return ''.join(secrets.choice(alphabet) for _ in range(string_length))\n"
   ]
  },
  {
   "cell_type": "code",
   "execution_count": 19,
   "metadata": {},
   "outputs": [],
   "source": [
    "def number():\n",
    "    return random.randrange(-1000, 1000)\n",
    "\n",
    "def small_positive_integer():\n",
    "    return random.randrange(1, 100)\n",
    "\n",
    "def positive_integer():\n",
    "    return random.randrange(1, 1000)\n",
    "\n",
    "def number_employees():\n",
    "    return random.randrange(1, 10000)\n"
   ]
  },
  {
   "cell_type": "code",
   "execution_count": 20,
   "metadata": {},
   "outputs": [],
   "source": [
    "def long_text():\n",
    "    return fake.paragraph(nb_sentences=1)\n",
    "\n",
    "def username():\n",
    "    return fake.user_name()\n",
    "\n",
    "def full_name():\n",
    "    return \"{} {}\".format(fake.first_name(), fake.last_name())\n",
    "\n",
    "def sex():\n",
    "    return random.choice(['Male', 'Female'])\n",
    "\n"
   ]
  },
  {
   "cell_type": "code",
   "execution_count": 21,
   "metadata": {},
   "outputs": [],
   "source": [
    "def brand():\n",
    "    return fake.company()\n",
    "\n",
    "def department():\n",
    "    return random.choice([\n",
    "        \"Marketing & Proposals Department\", \"Sales Department\", \"Project Department\",\n",
    "        \"Designing Department\", \"Production Department\", \"Maintenance Department\",\n",
    "        \"Store Department\", \"Procurement Department\", \"Quality Department\",\n",
    "        \"Inspection Department\", \"Packaging Department\", \"Finance Department\",\n",
    "        \"Dispatch Department\", \"Account Department\", \"Research & Development Department\",\n",
    "        \"Information Technology Department\", \"Human Resource Department\",\n",
    "        \"Security Department\", \"Administration Department\"\n",
    "    ])\n"
   ]
  },
  {
   "cell_type": "code",
   "execution_count": 22,
   "metadata": {},
   "outputs": [],
   "source": [
    "def deal_stage():\n",
    "    values = [\n",
    "        \"New Lead\", \"Contacted\", \"Qualified\", \"Proposal Sent\", \"Negotiation\",\n",
    "        \"Closed Won\", \"Closed Lost\", \"Re-engagement\", \"On Hold\", \"Disqualified\"\n",
    "    ]\n",
    "    return random.choice(values)\n",
    "\n",
    "def deal_source():\n",
    "    values = [\n",
    "        \"Website Form\", \"Cold Email\", \"Cold Call\", \"Referral\", \"Social Media\",\n",
    "        \"LinkedIn Outreach\", \"Google Ads\", \"Facebook Ads\", \"Organic Search (SEO)\",\n",
    "        \"Content Marketing\", \"Webinars\", \"Trade Show\", \"Networking Event\", \"Purchased List\",\n",
    "        \"Partner Program\", \"Chatbot\", \"Direct Traffic\", \"Retargeting Ads\", \"Podcast\", \"Other\"\n",
    "    ]\n",
    "    return random.choice(values)\n"
   ]
  },
  {
   "cell_type": "code",
   "execution_count": 23,
   "metadata": {},
   "outputs": [],
   "source": [
    "def color():\n",
    "    return fake.color_name()\n",
    "\n",
    "def size():\n",
    "    clothing_sizes = [\"XS\", \"S\", \"M\", \"L\", \"XL\", \"XXL\"]\n",
    "    generic_sizes = [\"Small\", \"Medium\", \"Large\", \"Extra Large\"]\n",
    "    dimensions = [\n",
    "        \"10x10 cm\", \"15x20 cm\", \"30x40 cm\", \"50x70 cm\",\n",
    "        \"100x200 mm\", \"5x7 in\", \"8x10 in\", \"12x18 in\"\n",
    "    ]\n",
    "    size_pool = clothing_sizes + generic_sizes + dimensions\n",
    "    return random.choice(size_pool)\n",
    "\n",
    "def availability():\n",
    "    statuses = [\n",
    "        \"in_stock\", \"out_of_stock\", \"pre_order\",\n",
    "        \"discontinued\", \"limited_stock\", \"backorder\"\n",
    "    ]\n",
    "    return random.choice(statuses)\n"
   ]
  },
  {
   "cell_type": "code",
   "execution_count": 24,
   "metadata": {},
   "outputs": [],
   "source": [
    "def product_name():\n",
    "    adjectives = [\n",
    "        \"Smart\", \"Ultra\", \"Eco\", \"Wireless\", \"Portable\", \"Pro\", \"Mini\", \"Advanced\", \"Digital\",\n",
    "        \"Compact\", \"Premium\", \"Rechargeable\", \"Smart\", \"Fast\", \"Silent\", \"Clean\", \"Automatic\"\n",
    "    ]\n",
    "    extra = [\n",
    "        \"Max\", \"X\", \"Go\", \"One\", \"360\", \"Plus\", \"Edge\", \"Prime\", \"Lite\", \"Air\", \"Touch\", \"Sense\"\n",
    "    ]\n",
    "    \n",
    "    word_count = random.randint(1, 5)\n",
    "    name_parts = []\n",
    "\n",
    "    if word_count >= 2:\n",
    "        name_parts.append(random.choice(adjectives))\n",
    "        name_parts.append(random.choice(product_names))\n",
    "        word_count -= 2\n",
    "    else:\n",
    "        name_parts.append(random.choice(product_names))\n",
    "        word_count -= 1\n",
    "\n",
    "    for _ in range(word_count):\n",
    "        name_parts.append(random.choice(extra + adjectives))\n",
    "\n",
    "    return \" \".join(name_parts)\n"
   ]
  },
  {
   "cell_type": "code",
   "execution_count": 25,
   "metadata": {},
   "outputs": [],
   "source": [
    "def product_category():\n",
    "    values = [\n",
    "        \"Clothing & Apparel\", \"Home & Kitchen\", \"Beauty & Personal Care\", \"Health & Wellness\",\n",
    "        \"Sports & Outdoors\", \"Toys & Games\", \"Automotive\", \"Books & Stationery\",\n",
    "        \"Office Supplies\", \"Smartphones\", \"Laptops & Computers\", \"Smartwatches\",\n",
    "        \"Headphones & Earbuds\", \"Cameras & Accessories\", \"Men's Clothing\", \"Women's Clothing\",\n",
    "        \"Kids' Clothing\", \"Shoes & Footwear\", \"Accessories (Bags, Hats, Belts)\", \"Furniture\",\n",
    "        \"Kitchen Appliances\", \"Bedding & Bath\", \"Home Decor\", \"Cleaning Supplies\",\n",
    "        \"Skincare\", \"Haircare\", \"Makeup\", \"Fragrances\", \"Grooming Tools\", \"Fitness Equipment\",\n",
    "        \"Camping & Hiking\", \"Cycling\", \"Team Sports\", \"Fishing & Hunting\"\n",
    "    ]\n",
    "    return random.choice(values)\n"
   ]
  },
  {
   "cell_type": "code",
   "execution_count": 26,
   "metadata": {},
   "outputs": [],
   "source": [
    "def currency():\n",
    "    return 'USD'\n",
    "\n",
    "def industry():\n",
    "    return random.choice([\n",
    "        \"Accounting\", \"Aviation\", \"Biotech\", \"Broadcast Media\", \"Construction\",\n",
    "        \"Consumer Goods\", \"Design\", \"E-Learning\", \"Education\", \"Finance\", \"Healthcare\",\n",
    "        \"Hospitality\", \"IT\", \"Legal\", \"Logistics\", \"Manufacturing\", \"Marketing\", \"Media\",\n",
    "        \"Medical Devices\", \"Mining\", \"Non-Profit\", \"Oil & Gas\", \"Pharmaceuticals\",\n",
    "        \"Retail\", \"Security\", \"Telecommunications\", \"Transportation\", \"Utilities\"\n",
    "    ])\n"
   ]
  },
  {
   "cell_type": "code",
   "execution_count": 27,
   "id": "cb7f19c8",
   "metadata": {},
   "outputs": [],
   "source": [
    "TYPES_TO_GENERATORS = {\n",
    "    'id': random_string,\n",
    "    'first_name': fake.first_name,\n",
    "    'last_name': fake.last_name,\n",
    "    'full_name': full_name,\n",
    "    'username': username,\n",
    "    'company': fake.company,\n",
    "    'industry': industry,\n",
    "    'business_department': department,\n",
    "    'company_desc': fake.catch_phrase,\n",
    "    'company_number_employees': number_employees,\n",
    "    'city': fake.city,\n",
    "    'country': fake.country,\n",
    "    'sex': sex,\n",
    "    'ean': fake.ean,\n",
    "    'url': fake.url,\n",
    "    'email': fake.email,\n",
    "    'currency': currency,\n",
    "    'availability': availability,\n",
    "    'size': size,\n",
    "    'color': color,\n",
    "    'business_email': fake.company_email,\n",
    "    'website': fake.url,\n",
    "    'job': fake.job,\n",
    "    'number': number,\n",
    "    'small_positive_integer': small_positive_integer,\n",
    "    'positive_integer': positive_integer,\n",
    "    'product_name': product_name,\n",
    "    'brand': brand,\n",
    "    'product_category': product_category,\n",
    "    'deal_stage': deal_stage,\n",
    "    'deal_source': deal_source,\n",
    "    'date': fake.date,\n",
    "    'year': fake.year,\n",
    "    'datetime': fake.date_time,\n",
    "    'date_this_decade': fake.date_this_decade,\n",
    "    'date_of_birth': fake.date_of_birth,\n",
    "    'long_text': long_text,\n",
    "    'address': fake.address,\n",
    "    'phone': fake.phone_number\n",
    "}\n"
   ]
  },
  {
   "cell_type": "code",
   "execution_count": 28,
   "metadata": {},
   "outputs": [
    {
     "name": "stdout",
     "output_type": "stream",
     "text": [
      "{'address': 'PSC 1612, Box 8993\\nAPO AE 98847',\n",
      " 'availability': 'in_stock',\n",
      " 'brand': 'Moyer and Sons',\n",
      " 'business_department': 'Designing Department',\n",
      " 'business_email': 'iwalker@kent.org',\n",
      " 'city': 'Lake Jack',\n",
      " 'color': 'LightBlue',\n",
      " 'company': 'Brown, Riley and Castillo',\n",
      " 'company_desc': 'User-friendly modular extranet',\n",
      " 'company_number_employees': 7121,\n",
      " 'country': 'Russian Federation',\n",
      " 'currency': 'USD',\n",
      " 'date': '1985-09-05',\n",
      " 'date_of_birth': datetime.date(2009, 5, 24),\n",
      " 'date_this_decade': datetime.date(2022, 9, 20),\n",
      " 'datetime': datetime.datetime(1973, 2, 13, 5, 10, 59),\n",
      " 'deal_source': 'Chatbot',\n",
      " 'deal_stage': 'Re-engagement',\n",
      " 'ean': '2922527073245',\n",
      " 'email': 'pollardross@example.org',\n",
      " 'first_name': 'Monique',\n",
      " 'full_name': 'Evelyn Hoover',\n",
      " 'id': 'PhAE4TwZc3',\n",
      " 'industry': 'Telecommunications',\n",
      " 'job': 'Technical brewer',\n",
      " 'last_name': 'Massey',\n",
      " 'long_text': 'Behavior history need might conference behavior street.',\n",
      " 'number': 360,\n",
      " 'phone': '670.495.9623x7243',\n",
      " 'positive_integer': 205,\n",
      " 'product_category': \"Kids' Clothing\",\n",
      " 'product_name': 'Radio',\n",
      " 'sex': 'Male',\n",
      " 'size': 'Medium',\n",
      " 'small_positive_integer': 71,\n",
      " 'url': 'https://mora-higgins.com/',\n",
      " 'username': 'mespinoza',\n",
      " 'website': 'http://vega.org/',\n",
      " 'year': '1989'}\n"
     ]
    }
   ],
   "source": [
    "from pprint import pprint\n",
    "\n",
    "sample = {key: generator() for key, generator in TYPES_TO_GENERATORS.items()}\n",
    "pprint(sample)\n"
   ]
  },
  {
   "cell_type": "code",
   "execution_count": 29,
   "id": "6cb34cc1",
   "metadata": {},
   "outputs": [
    {
     "name": "stdout",
     "output_type": "stream",
     "text": [
      "{'Category': 'Clothing & Apparel',\n",
      " 'Color': 'Cornsilk',\n",
      " 'Company': 'Osborn, Nielsen and Duffy',\n",
      " 'Department': 'Sales Department',\n",
      " 'Email': 'mcdowellmarcia@example.com',\n",
      " 'ID': '5SbdRwqLUa',\n",
      " 'Industry': 'Biotech',\n",
      " 'Name': 'Karen Dickson',\n",
      " 'Price': 264,\n",
      " 'Product': 'Ultra Trimmer Clock Premium Clean',\n",
      " 'Size': '15x20 cm',\n",
      " 'Status': 'pre_order',\n",
      " 'Username': 'romerohailey'}\n"
     ]
    }
   ],
   "source": [
    "from pprint import pprint\n",
    "\n",
    "data = {\n",
    "    \"ID\": random_string(),\n",
    "    \"Name\": full_name(),\n",
    "    \"Username\": username(),\n",
    "    \"Email\": fake.email(),\n",
    "    \"Company\": brand(),\n",
    "    \"Product\": product_name(),\n",
    "    \"Category\": product_category(),\n",
    "    \"Color\": color(),\n",
    "    \"Size\": size(),\n",
    "    \"Price\": positive_integer(),\n",
    "    \"Status\": availability(),\n",
    "    \"Department\": department(),\n",
    "    \"Industry\": industry()\n",
    "}\n",
    "\n",
    "pprint(data)\n"
   ]
  }
 ],
 "metadata": {
  "kernelspec": {
   "display_name": "Python 3",
   "language": "python",
   "name": "python3"
  },
  "language_info": {
   "codemirror_mode": {
    "name": "ipython",
    "version": 3
   },
   "file_extension": ".py",
   "mimetype": "text/x-python",
   "name": "python",
   "nbconvert_exporter": "python",
   "pygments_lexer": "ipython3",
   "version": "3.12.3"
  }
 },
 "nbformat": 4,
 "nbformat_minor": 5
}
